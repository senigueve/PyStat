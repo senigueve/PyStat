{
 "cells": [
  {
   "cell_type": "code",
   "execution_count": 1,
   "metadata": {},
   "outputs": [
    {
     "name": "stdout",
     "output_type": "stream",
     "text": [
      "Requirement already satisfied: matplotlib in /srv/conda/lib/python3.6/site-packages (3.0.3)\n",
      "Requirement already satisfied: numpy>=1.10.0 in /srv/conda/lib/python3.6/site-packages (from matplotlib) (1.16.3)\n",
      "Requirement already satisfied: cycler>=0.10 in /srv/conda/lib/python3.6/site-packages (from matplotlib) (0.10.0)\n",
      "Requirement already satisfied: kiwisolver>=1.0.1 in /srv/conda/lib/python3.6/site-packages (from matplotlib) (1.0.1)\n",
      "Requirement already satisfied: pyparsing!=2.0.4,!=2.1.2,!=2.1.6,>=2.0.1 in /srv/conda/lib/python3.6/site-packages (from matplotlib) (2.4.0)\n",
      "Requirement already satisfied: python-dateutil>=2.1 in /srv/conda/lib/python3.6/site-packages (from matplotlib) (2.8.0)\n",
      "Requirement already satisfied: six in /srv/conda/lib/python3.6/site-packages (from cycler>=0.10->matplotlib) (1.12.0)\n",
      "Requirement already satisfied: setuptools in /srv/conda/lib/python3.6/site-packages (from kiwisolver>=1.0.1->matplotlib) (40.8.0)\n",
      "Note: you may need to restart the kernel to use updated packages.\n"
     ]
    }
   ],
   "source": [
    "pip install matplotlib"
   ]
  },
  {
   "cell_type": "code",
   "execution_count": 3,
   "metadata": {},
   "outputs": [
    {
     "name": "stdout",
     "output_type": "stream",
     "text": [
      "Collecting dash_daq\n",
      "\u001b[?25l  Downloading https://files.pythonhosted.org/packages/db/d6/f896fd4f33ce443ad133d02591b45fb8070b033b1cfc4b94733d69b1047e/dash_daq-0.1.7.tar.gz (794kB)\n",
      "\u001b[K    100% |████████████████████████████████| 798kB 14.1MB/s ta 0:00:01\n",
      "\u001b[?25hBuilding wheels for collected packages: dash-daq\n",
      "  Building wheel for dash-daq (setup.py) ... \u001b[?25ldone\n",
      "\u001b[?25h  Stored in directory: /home/jovyan/.cache/pip/wheels/9e/22/2d/20f81beedb84a7b3154044e6be6046bc252fcab2626d8c1182\n",
      "Successfully built dash-daq\n",
      "Installing collected packages: dash-daq\n",
      "Successfully installed dash-daq-0.1.7\n",
      "Note: you may need to restart the kernel to use updated packages.\n"
     ]
    }
   ],
   "source": [
    "pip install dash_daq"
   ]
  },
  {
   "cell_type": "code",
   "execution_count": 4,
   "metadata": {},
   "outputs": [
    {
     "name": "stdout",
     "output_type": "stream",
     "text": [
      "Requirement already satisfied: numpy in /srv/conda/lib/python3.6/site-packages (1.16.3)\n",
      "Note: you may need to restart the kernel to use updated packages.\n"
     ]
    }
   ],
   "source": [
    "pip install numpy"
   ]
  },
  {
   "cell_type": "code",
   "execution_count": 5,
   "metadata": {},
   "outputs": [
    {
     "name": "stdout",
     "output_type": "stream",
     "text": [
      "                               Date-Time    Fault_Time  Position_From  \\\n",
      "<< 15.03.2019 06:08:42 >> 1.0      #9080          Clip           -1.0   \n",
      "                          14.0   B537_1B           CPA           -1.0   \n",
      "                          0.0     X13_4B  Dichtpr?fung           -1.0   \n",
      "NaN                       NaN        NaN           NaN            NaN   \n",
      "<< 15.03.2019 06:08:55 >> 9.0     X13_4B  Dichtpr?fung           -1.0   \n",
      "                          1.0     #73111      8B002363           -1.0   \n",
      "NaN                       NaN        NaN           NaN            NaN   \n",
      "                          NaN        NaN           NaN            NaN   \n",
      "                          NaN        NaN           NaN            NaN   \n",
      "<< 15.03.2019 06:11:58 >> 2.0      #9080          Clip           -1.0   \n",
      "                          8.0     X13_4B  Dichtpr?fung           -1.0   \n",
      "                          5.0    B435_1B           CPA           -1.0   \n",
      "                          1.0     #73111      8B002363           -1.0   \n",
      "NaN                       NaN        NaN           NaN            NaN   \n",
      "                          NaN        NaN           NaN            NaN   \n",
      "                          NaN        NaN           NaN            NaN   \n",
      "                          NaN        NaN           NaN            NaN   \n",
      "                          NaN        NaN           NaN            NaN   \n",
      "<< 15.03.2019 06:18:35 >> 0.0     X13_4B  Dichtpr?fung           -1.0   \n",
      "                          5.0      #9080          Clip           -1.0   \n",
      "                          14.0   B537_1B           CPA           -1.0   \n",
      "                          0.0     X13_4B  Dichtpr?fung           -1.0   \n",
      "NaN                       NaN        NaN           NaN            NaN   \n",
      "<< 15.03.2019 06:18:54 >> 6.0     X13_4B  Dichtpr?fung           -1.0   \n",
      "                          8.0    B435_1B           CPA           -1.0   \n",
      "                          1.0     #73111      8B002363           -1.0   \n",
      "NaN                       NaN        NaN           NaN            NaN   \n",
      "                          NaN        NaN           NaN            NaN   \n",
      "                          NaN        NaN           NaN            NaN   \n",
      "<< 15.03.2019 06:20:42 >> 1.0     A46_3B           NaN           54.0   \n",
      "...                                  ...           ...            ...   \n",
      "NaN                       NaN        NaN           NaN            NaN   \n",
      "                          NaN        NaN           NaN            NaN   \n",
      "                          NaN        NaN           NaN            NaN   \n",
      "<< 15.03.2019 21:48:09 >> 0.0     #71675          Clip           -1.0   \n",
      "                          1.0      #9080          Clip           -1.0   \n",
      "                          7.0     X13_4B  Dichtpr?fung           -1.0   \n",
      "NaN                       NaN        NaN           NaN            NaN   \n",
      "                          NaN        NaN           NaN            NaN   \n",
      "                          NaN        NaN           NaN            NaN   \n",
      "<< 15.03.2019 21:49:43 >> 5.0     X13_4B  Dichtpr?fung           -1.0   \n",
      "                          0.0     #73111      8B002363           -1.0   \n",
      "NaN                       NaN        NaN           NaN            NaN   \n",
      "                          NaN        NaN           NaN            NaN   \n",
      "                          NaN        NaN           NaN            NaN   \n",
      "<< 15.03.2019 21:51:15 >> 5.0     X13_4B  Dichtpr?fung           -1.0   \n",
      "                          0.0     #73111      8B002363           -1.0   \n",
      "NaN                       NaN        NaN           NaN            NaN   \n",
      "                          NaN        NaN           NaN            NaN   \n",
      "                          NaN        NaN           NaN            NaN   \n",
      "<< 15.03.2019 21:54:46 >> 1.0   X1398_1B           NaN            4.0   \n",
      "<< 15.03.2019 21:54:59 >> 2.0      #9080          Clip           -1.0   \n",
      "                          4.0     X13_4B  Dichtpr?fung           -1.0   \n",
      "                          5.0   X1398_1B           CPA           -1.0   \n",
      "                          0.0     #73111      8B002363           -1.0   \n",
      "NaN                       NaN        NaN           NaN            NaN   \n",
      "                          NaN        NaN           NaN            NaN   \n",
      "                          NaN        NaN           NaN            NaN   \n",
      "<< 15.03.2019 21:56:29 >> 1.0      #9080          Clip           -1.0   \n",
      "                          5.0     X13_4B  Dichtpr?fung           -1.0   \n",
      "                          1.0     #73111      8B002363           -1.0   \n",
      "\n",
      "                                             Pin_From  \n",
      "<< 15.03.2019 06:08:42 >> 1.0   374UVX880BM4B39012302  \n",
      "                          14.0  374UVX880BM4B39012302  \n",
      "                          0.0   374UVX880BM4B39012302  \n",
      "NaN                       NaN                     NaN  \n",
      "<< 15.03.2019 06:08:55 >> 9.0   374UVX880BM4B39012302  \n",
      "                          1.0   374UVX880BM4B39012302  \n",
      "NaN                       NaN                     NaN  \n",
      "                          NaN                     NaN  \n",
      "                          NaN                     NaN  \n",
      "<< 15.03.2019 06:11:58 >> 2.0   374UVX880BM4B39012302  \n",
      "                          8.0   374UVX880BM4B39012302  \n",
      "                          5.0   374UVX880BM4B39012302  \n",
      "                          1.0   374UVX880BM4B39012302  \n",
      "NaN                       NaN                     NaN  \n",
      "                          NaN                     NaN  \n",
      "                          NaN                     NaN  \n",
      "                          NaN                     NaN  \n",
      "                          NaN                     NaN  \n",
      "<< 15.03.2019 06:18:35 >> 0.0   374UVX880BM4B39012302  \n",
      "                          5.0   374UVX880BM4B39012302  \n",
      "                          14.0  374UVX880BM4B39012302  \n",
      "                          0.0   374UVX880BM4B39012302  \n",
      "NaN                       NaN                     NaN  \n",
      "<< 15.03.2019 06:18:54 >> 6.0   374UVX880BM4B39012302  \n",
      "                          8.0   374UVX880BM4B39012302  \n",
      "                          1.0   374UVX880BM4B39012302  \n",
      "NaN                       NaN                     NaN  \n",
      "                          NaN                     NaN  \n",
      "                          NaN                     NaN  \n",
      "<< 15.03.2019 06:20:42 >> 1.0   374UVX880BM4B39012302  \n",
      "...                                               ...  \n",
      "NaN                       NaN                     NaN  \n",
      "                          NaN                     NaN  \n",
      "                          NaN                     NaN  \n",
      "<< 15.03.2019 21:48:09 >> 0.0   376VHG140BM4B39012301  \n",
      "                          1.0   376VHG140BM4B39012301  \n",
      "                          7.0   376VHG140BM4B39012301  \n",
      "NaN                       NaN                     NaN  \n",
      "                          NaN                     NaN  \n",
      "                          NaN                     NaN  \n",
      "<< 15.03.2019 21:49:43 >> 5.0   376VHG140BM4B39012301  \n",
      "                          0.0   376VHG140BM4B39012301  \n",
      "NaN                       NaN                     NaN  \n",
      "                          NaN                     NaN  \n",
      "                          NaN                     NaN  \n",
      "<< 15.03.2019 21:51:15 >> 5.0   376VHG140BM4B39012301  \n",
      "                          0.0   376VHG140BM4B39012301  \n",
      "NaN                       NaN                     NaN  \n",
      "                          NaN                     NaN  \n",
      "                          NaN                     NaN  \n",
      "<< 15.03.2019 21:54:46 >> 1.0   376VHG140BM4B39012301  \n",
      "<< 15.03.2019 21:54:59 >> 2.0   376VHG140BM4B39012301  \n",
      "                          4.0   376VHG140BM4B39012301  \n",
      "                          5.0   376VHG140BM4B39012301  \n",
      "                          0.0   376VHG140BM4B39012301  \n",
      "NaN                       NaN                     NaN  \n",
      "                          NaN                     NaN  \n",
      "                          NaN                     NaN  \n",
      "<< 15.03.2019 21:56:29 >> 1.0   376VHG140BM4B39012301  \n",
      "                          5.0   376VHG140BM4B39012301  \n",
      "                          1.0   376VHG140BM4B39012301  \n",
      "\n",
      "[2283 rows x 4 columns]\n"
     ]
    }
   ],
   "source": [
    "import pandas as pd\n",
    "import numpy as np\n",
    "import matplotlib.pyplot as plt\n",
    "%matplotlib inline\n",
    "          \n",
    "df = pd.read_csv(\"FaultData.csv\",header=None,skiprows=1,names=['Date-Time' , 'Fault_Time' , 'Position_From' , 'Pin_From'])\n",
    "df.dropna()\n",
    "print(df)"
   ]
  },
  {
   "cell_type": "code",
   "execution_count": null,
   "metadata": {},
   "outputs": [],
   "source": []
  }
 ],
 "metadata": {
  "kernelspec": {
   "display_name": "Python 3",
   "language": "python",
   "name": "python3"
  },
  "language_info": {
   "codemirror_mode": {
    "name": "ipython",
    "version": 3
   },
   "file_extension": ".py",
   "mimetype": "text/x-python",
   "name": "python",
   "nbconvert_exporter": "python",
   "pygments_lexer": "ipython3",
   "version": "3.6.7"
  }
 },
 "nbformat": 4,
 "nbformat_minor": 2
}
